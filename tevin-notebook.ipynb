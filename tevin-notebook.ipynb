{
 "cells": [
  {
   "cell_type": "markdown",
   "metadata": {},
   "source": [
    "# Unsupervised Learning Predict Student Solution\n",
    "\n",
    "© Explore Data Science Academy\n",
    "\n",
    "---\n",
    "### Honour Code\n",
    "\n",
    "I {**2301ACDS_TeamES1**}, confirm - by submitting this document - that the solutions in this notebook are a result of my own work and that I abide by the [EDSA honour code](https://drive.google.com/file/d/1QDCjGZJ8-FmJE3bZdIQNwnJyQKPhHZBn/view?usp=sharing).\n",
    "\n",
    "Non-compliance with the honour code constitutes a material breach of contract."
   ]
  },
  {
   "cell_type": "markdown",
   "metadata": {},
   "source": [
    "<a id=\"cont\"></a>\n",
    "\n",
    "## Table of Contents\n"
   ]
  },
  {
   "cell_type": "markdown",
   "metadata": {},
   "source": [
    "<a href=#one>1. Introduction</a>\n",
    "\n",
    "<a href=#two>2. Importing Packages</a>\n",
    "\n",
    "<a href=#three>3. Loading The Data</a>\n",
    "\n",
    "<a href=#four>4. Exploratory Data Analysis</a>\n",
    "\n",
    "<a href=#five>5. Data Engineering</a>\n",
    "\n",
    "<a href=#six>6. Model Training and Evaluation</a>\n",
    "\n",
    "<a href=#seven>7. Test Data Preparation and Submission</a>\n",
    "\n",
    "<a href=#eight>8. Saving Models for Streamlit Appilication</a>\n",
    "\n",
    "<a href=#nine>9. Conclusion</a>\n",
    "\n",
    "<a href=#ten>10. Recommendation</a>\n",
    "    \n",
    "<a href=#eleven>11. Reference Links</a>"
   ]
  },
  {
   "cell_type": "code",
   "execution_count": 1,
   "metadata": {
    "execution": {
     "iopub.execute_input": "2023-07-17T07:07:17.047195Z",
     "iopub.status.busy": "2023-07-17T07:07:17.046724Z",
     "iopub.status.idle": "2023-07-17T07:07:17.096409Z",
     "shell.execute_reply": "2023-07-17T07:07:17.095356Z",
     "shell.execute_reply.started": "2023-07-17T07:07:17.047164Z"
    }
   },
   "outputs": [
    {
     "name": "stdout",
     "output_type": "stream",
     "text": [
      "/kaggle/input/edsa-movie-recommendation-predict/sample_submission.csv\n",
      "/kaggle/input/edsa-movie-recommendation-predict/movies.csv\n",
      "/kaggle/input/edsa-movie-recommendation-predict/imdb_data.csv\n",
      "/kaggle/input/edsa-movie-recommendation-predict/genome_tags.csv\n",
      "/kaggle/input/edsa-movie-recommendation-predict/genome_scores.csv\n",
      "/kaggle/input/edsa-movie-recommendation-predict/train.csv\n",
      "/kaggle/input/edsa-movie-recommendation-predict/test.csv\n",
      "/kaggle/input/edsa-movie-recommendation-predict/tags.csv\n",
      "/kaggle/input/edsa-movie-recommendation-predict/links.csv\n"
     ]
    }
   ],
   "source": [
    "# This Python 3 environment comes with many helpful analytics libraries installed\n",
    "# It is defined by the kaggle/python Docker image: https://github.com/kaggle/docker-python\n",
    "# For example, here's several helpful packages to load\n",
    "\n",
    "import numpy as np # linear algebra\n",
    "import pandas as pd # data processing, CSV file I/O (e.g. pd.read_csv)\n",
    "\n",
    "# Input data files are available in the read-only \"../input/\" directory\n",
    "# For example, running this (by clicking run or pressing Shift+Enter) will list all files under the input directory\n",
    "\n",
    "import os\n",
    "for dirname, _, filenames in os.walk('/kaggle/input'):\n",
    "    for filename in filenames:\n",
    "        print(os.path.join(dirname, filename))\n",
    "\n",
    "# You can write up to 20GB to the current directory (/kaggle/working/) that gets preserved as output when you create a version using \"Save & Run All\" \n",
    "# You can also write temporary files to /kaggle/temp/, but they won't be saved outside of the current session"
   ]
  },
  {
   "cell_type": "markdown",
   "metadata": {},
   "source": [
    " <a id=\"one\"></a>\n",
    "## 1. Introduction \n",
    "<a href=#cont>Back to Table of Contents</a>"
   ]
  },
  {
   "cell_type": "markdown",
   "metadata": {},
   "source": [
    "<a id=\"two\"></a>\n",
    "## 2. Importing Packages\n",
    "<a href=#cont>Back to Table of Contents</a>"
   ]
  },
  {
   "cell_type": "markdown",
   "metadata": {},
   "source": [
    "Python libraries are pre-written code modules that provide a wide range of functionalities, allowing developers to easily incorporate specific features into their Python projects. These libraries serve as powerful tools that simplify complex tasks, promote code reuse, and enhance productivity. Here's a brief summary of some popular Python libraries we will be using:\n",
    "\n",
    "- **NumPy**: NumPy is a fundamental library for numerical computing in Python. It provides support for large, multi-dimensional arrays and matrices, along with a collection of mathematical functions to perform operations efficiently.\n",
    "\n",
    "- **Pandas**: Pandas is a versatile library for data manipulation and analysis. It introduces the DataFrame data structure, which enables easy handling and manipulation of structured data, such as CSV files or database tables.\n",
    "\n",
    "- **Matplotlib**: Matplotlib is a comprehensive plotting library that allows the creation of static, animated, and interactive visualizations. It provides a wide variety of plots, including line plots, bar charts, scatter plots, histograms, and more.\n",
    "\n",
    "- **Scikit-learn**: Scikit-learn is a powerful machine learning library that provides a wide range of algorithms and tools for tasks such as classification, regression, clustering, and dimensionality reduction. It also offers utilities for model evaluation and data preprocessing.\n"
   ]
  },
  {
   "cell_type": "code",
   "execution_count": 1,
   "metadata": {
    "_cell_guid": "b1076dfc-b9ad-4769-8c92-a6c4dae69d19",
    "_uuid": "8f2839f25d086af736a60e9eeb907d3b93b6e0e5",
    "execution": {
     "iopub.execute_input": "2023-07-17T07:07:17.099595Z",
     "iopub.status.busy": "2023-07-17T07:07:17.098833Z",
     "iopub.status.idle": "2023-07-17T07:07:20.946837Z",
     "shell.execute_reply": "2023-07-17T07:07:20.945541Z",
     "shell.execute_reply.started": "2023-07-17T07:07:17.099562Z"
    },
    "papermill": {
     "duration": 1.434148,
     "end_time": "2023-07-05T18:50:52.542966",
     "exception": false,
     "start_time": "2023-07-05T18:50:51.108818",
     "status": "completed"
    },
    "tags": []
   },
   "outputs": [
    {
     "data": {
      "text/html": [
       "        <script type=\"text/javascript\">\n",
       "        window.PlotlyConfig = {MathJaxConfig: 'local'};\n",
       "        if (window.MathJax && window.MathJax.Hub && window.MathJax.Hub.Config) {window.MathJax.Hub.Config({SVG: {font: \"STIX-Web\"}});}\n",
       "        if (typeof require !== 'undefined') {\n",
       "        require.undef(\"plotly\");\n",
       "        requirejs.config({\n",
       "            paths: {\n",
       "                'plotly': ['https://cdn.plot.ly/plotly-2.12.1.min']\n",
       "            }\n",
       "        });\n",
       "        require(['plotly'], function(Plotly) {\n",
       "            window._Plotly = Plotly;\n",
       "        });\n",
       "        }\n",
       "        </script>\n",
       "        "
      ]
     },
     "metadata": {},
     "output_type": "display_data"
    }
   ],
   "source": [
    "%matplotlib inline\n",
    "import numpy as np # linear algebra\n",
    "import pandas as pd # data processing, CSV file I/O (e.g. pd.read_csv)\n",
    "import matplotlib.pyplot as plt\n",
    "from matplotlib.colors import ListedColormap\n",
    "from matplotlib import offsetbox\n",
    "plt.style.use('seaborn-whitegrid')\n",
    "import seaborn as sns\n",
    "\n",
    "import cufflinks as cf\n",
    "import re\n",
    "import scipy as sp\n",
    "import difflib\n",
    "from sklearn.cluster import AgglomerativeClustering\n",
    "from sklearn.preprocessing import StandardScaler\n",
    "\n",
    "\n",
    "from sklearn import preprocessing\n",
    "from sklearn.decomposition import PCA\n",
    "from sklearn.model_selection import train_test_split\n",
    "from sklearn.metrics import mean_squared_error\n",
    "\n",
    "import surprise    # Run \"!pip install surprise\" on new cell to download\n",
    "from surprise import Reader\n",
    "from surprise import Dataset\n",
    "from surprise.model_selection import train_test_split\n",
    "from surprise import SVD\n",
    "from surprise import SVDpp\n",
    "from surprise import accuracy\n",
    "import plotly.express as px\n",
    "from surprise.model_selection import cross_validate\n",
    "from surprise import NormalPredictor\n",
    "from surprise import KNNBasic\n",
    "from surprise import KNNWithMeans\n",
    "from surprise import KNNWithZScore\n",
    "from surprise import KNNBaseline\n",
    "from surprise import BaselineOnly\n",
    "from surprise import NMF\n",
    "from surprise import SlopeOne\n",
    "from surprise import CoClustering\n",
    "from surprise.accuracy import rmse\n",
    "from sklearn.cluster import KMeans\n",
    "from sklearn.mixture import GaussianMixture\n",
    "from scipy.cluster.hierarchy import ward, dendrogram\n",
    "import scipy.cluster.hierarchy as sch\n",
    "\n",
    "from sklearn import (manifold, datasets, decomposition, ensemble,\n",
    "                     discriminant_analysis, random_projection, preprocessing)\n",
    "\n",
    "from time import time    # Import time to measure algorithm runtime\n",
    "\n",
    "# Entity featurization and similarity computation\n",
    "from sklearn.metrics.pairwise import cosine_similarity \n",
    "from sklearn.feature_extraction.text import TfidfVectorizer, CountVectorizer\n",
    "\n",
    "from sklearn.metrics import mean_squared_error\n",
    "\n",
    "# Libraries used during sorting procedures.\n",
    "import operator # <-- Convienient item retrieval during iteration \n",
    "import heapq # <-- Efficient sorting of large lists\n",
    " \n",
    "sns.set(style='whitegrid', palette='muted',\n",
    "        rc={'figure.figsize': (15,10)})\n",
    "\n",
    "from plotly.offline import download_plotlyjs, init_notebook_mode, plot, iplot\n",
    "init_notebook_mode(connected=True)\n",
    "\n",
    "# Imported for our sanity\n",
    "import warnings\n",
    "warnings.filterwarnings('ignore')"
   ]
  },
  {
   "cell_type": "markdown",
   "metadata": {},
   "source": [
    "<a id=\"three\"></a>\n",
    "## 3. Loading the Data\n",
    "<a class=\"anchor\" id=\"1.1\"></a>\n",
    "<a href=#cont>Back to Table of Contents</a>"
   ]
  },
  {
   "cell_type": "code",
   "execution_count": 3,
   "metadata": {
    "execution": {
     "iopub.execute_input": "2023-07-17T07:07:20.948703Z",
     "iopub.status.busy": "2023-07-17T07:07:20.948356Z",
     "iopub.status.idle": "2023-07-17T07:07:48.748734Z",
     "shell.execute_reply": "2023-07-17T07:07:48.747555Z",
     "shell.execute_reply.started": "2023-07-17T07:07:20.948676Z"
    }
   },
   "outputs": [],
   "source": [
    "# df_train = pd.read_csv('/kaggle/input/edsa-movie-recommendation-predict/train.csv')\n",
    "# df_test = pd.read_csv('/kaggle/input/edsa-movie-recommendation-predict/test.csv')\n",
    "# df_sample = pd.read_csv('/kaggle/input/edsa-movie-recommendation-predict/sample_submission.csv')\n",
    "# df_gscores = pd.read_csv('/kaggle/input/edsa-movie-recommendation-predict/genome_scores.csv')\n",
    "# df_gtags = pd.read_csv('/kaggle/input/edsa-movie-recommendation-predict/genome_tags.csv')\n",
    "# df_imdb = pd.read_csv('/kaggle/input/edsa-movie-recommendation-predict/imdb_data.csv')\n",
    "# df_links = pd.read_csv('/kaggle/input/edsa-movie-recommendation-predict/links.csv')\n",
    "# df_movies = pd.read_csv('/kaggle/input/edsa-movie-recommendation-predict/movies.csv')\n",
    "# df_tags = pd.read_csv('/kaggle/input/edsa-movie-recommendation-predict/tags.csv')"
   ]
  },
  {
   "cell_type": "code",
   "execution_count": 4,
   "metadata": {},
   "outputs": [],
   "source": [
    "df_train = pd.read_csv('./s3-drive/train.csv')\n",
    "df_test = pd.read_csv('./s3-drive/test.csv')\n",
    "df_gscores = pd.read_csv('./s3-drive/genome_scores.csv')\n",
    "df_gtags = pd.read_csv('./s3-drive/genome_tags.csv')\n",
    "df_imdb = pd.read_csv('./s3-drive/imdb_data.csv')\n",
    "df_links = pd.read_csv('./s3-drive/links.csv')\n",
    "df_movies = pd.read_csv('./s3-drive/movies.csv')\n",
    "df_tags = pd.read_csv('./s3-drive/tags.csv')"
   ]
  },
  {
   "cell_type": "code",
   "execution_count": 5,
   "metadata": {
    "execution": {
     "iopub.execute_input": "2023-07-17T07:07:48.750787Z",
     "iopub.status.busy": "2023-07-17T07:07:48.750346Z",
     "iopub.status.idle": "2023-07-17T07:07:48.778217Z",
     "shell.execute_reply": "2023-07-17T07:07:48.776744Z",
     "shell.execute_reply.started": "2023-07-17T07:07:48.750749Z"
    }
   },
   "outputs": [
    {
     "data": {
      "text/html": [
       "<div>\n",
       "<style scoped>\n",
       "    .dataframe tbody tr th:only-of-type {\n",
       "        vertical-align: middle;\n",
       "    }\n",
       "\n",
       "    .dataframe tbody tr th {\n",
       "        vertical-align: top;\n",
       "    }\n",
       "\n",
       "    .dataframe thead th {\n",
       "        text-align: right;\n",
       "    }\n",
       "</style>\n",
       "<table border=\"1\" class=\"dataframe\">\n",
       "  <thead>\n",
       "    <tr style=\"text-align: right;\">\n",
       "      <th></th>\n",
       "      <th>movieId</th>\n",
       "      <th>title</th>\n",
       "      <th>genres</th>\n",
       "    </tr>\n",
       "  </thead>\n",
       "  <tbody>\n",
       "    <tr>\n",
       "      <th>0</th>\n",
       "      <td>1</td>\n",
       "      <td>Toy Story (1995)</td>\n",
       "      <td>Adventure|Animation|Children|Comedy|Fantasy</td>\n",
       "    </tr>\n",
       "    <tr>\n",
       "      <th>1</th>\n",
       "      <td>2</td>\n",
       "      <td>Jumanji (1995)</td>\n",
       "      <td>Adventure|Children|Fantasy</td>\n",
       "    </tr>\n",
       "    <tr>\n",
       "      <th>2</th>\n",
       "      <td>3</td>\n",
       "      <td>Grumpier Old Men (1995)</td>\n",
       "      <td>Comedy|Romance</td>\n",
       "    </tr>\n",
       "    <tr>\n",
       "      <th>3</th>\n",
       "      <td>4</td>\n",
       "      <td>Waiting to Exhale (1995)</td>\n",
       "      <td>Comedy|Drama|Romance</td>\n",
       "    </tr>\n",
       "    <tr>\n",
       "      <th>4</th>\n",
       "      <td>5</td>\n",
       "      <td>Father of the Bride Part II (1995)</td>\n",
       "      <td>Comedy</td>\n",
       "    </tr>\n",
       "  </tbody>\n",
       "</table>\n",
       "</div>"
      ],
      "text/plain": [
       "   movieId                               title  \\\n",
       "0        1                    Toy Story (1995)   \n",
       "1        2                      Jumanji (1995)   \n",
       "2        3             Grumpier Old Men (1995)   \n",
       "3        4            Waiting to Exhale (1995)   \n",
       "4        5  Father of the Bride Part II (1995)   \n",
       "\n",
       "                                        genres  \n",
       "0  Adventure|Animation|Children|Comedy|Fantasy  \n",
       "1                   Adventure|Children|Fantasy  \n",
       "2                               Comedy|Romance  \n",
       "3                         Comedy|Drama|Romance  \n",
       "4                                       Comedy  "
      ]
     },
     "execution_count": 5,
     "metadata": {},
     "output_type": "execute_result"
    }
   ],
   "source": [
    "df_movies.head()"
   ]
  },
  {
   "cell_type": "code",
   "execution_count": 6,
   "metadata": {
    "execution": {
     "iopub.execute_input": "2023-07-17T07:07:48.782041Z",
     "iopub.status.busy": "2023-07-17T07:07:48.781387Z",
     "iopub.status.idle": "2023-07-17T07:07:48.797019Z",
     "shell.execute_reply": "2023-07-17T07:07:48.795662Z",
     "shell.execute_reply.started": "2023-07-17T07:07:48.781989Z"
    }
   },
   "outputs": [
    {
     "data": {
      "text/html": [
       "<div>\n",
       "<style scoped>\n",
       "    .dataframe tbody tr th:only-of-type {\n",
       "        vertical-align: middle;\n",
       "    }\n",
       "\n",
       "    .dataframe tbody tr th {\n",
       "        vertical-align: top;\n",
       "    }\n",
       "\n",
       "    .dataframe thead th {\n",
       "        text-align: right;\n",
       "    }\n",
       "</style>\n",
       "<table border=\"1\" class=\"dataframe\">\n",
       "  <thead>\n",
       "    <tr style=\"text-align: right;\">\n",
       "      <th></th>\n",
       "      <th>movieId</th>\n",
       "      <th>title_cast</th>\n",
       "      <th>director</th>\n",
       "      <th>runtime</th>\n",
       "      <th>budget</th>\n",
       "      <th>plot_keywords</th>\n",
       "    </tr>\n",
       "  </thead>\n",
       "  <tbody>\n",
       "    <tr>\n",
       "      <th>0</th>\n",
       "      <td>1</td>\n",
       "      <td>Tom Hanks|Tim Allen|Don Rickles|Jim Varney|Wal...</td>\n",
       "      <td>John Lasseter</td>\n",
       "      <td>81.0</td>\n",
       "      <td>$30,000,000</td>\n",
       "      <td>toy|rivalry|cowboy|cgi animation</td>\n",
       "    </tr>\n",
       "    <tr>\n",
       "      <th>1</th>\n",
       "      <td>2</td>\n",
       "      <td>Robin Williams|Jonathan Hyde|Kirsten Dunst|Bra...</td>\n",
       "      <td>Jonathan Hensleigh</td>\n",
       "      <td>104.0</td>\n",
       "      <td>$65,000,000</td>\n",
       "      <td>board game|adventurer|fight|game</td>\n",
       "    </tr>\n",
       "    <tr>\n",
       "      <th>2</th>\n",
       "      <td>3</td>\n",
       "      <td>Walter Matthau|Jack Lemmon|Sophia Loren|Ann-Ma...</td>\n",
       "      <td>Mark Steven Johnson</td>\n",
       "      <td>101.0</td>\n",
       "      <td>$25,000,000</td>\n",
       "      <td>boat|lake|neighbor|rivalry</td>\n",
       "    </tr>\n",
       "    <tr>\n",
       "      <th>3</th>\n",
       "      <td>4</td>\n",
       "      <td>Whitney Houston|Angela Bassett|Loretta Devine|...</td>\n",
       "      <td>Terry McMillan</td>\n",
       "      <td>124.0</td>\n",
       "      <td>$16,000,000</td>\n",
       "      <td>black american|husband wife relationship|betra...</td>\n",
       "    </tr>\n",
       "    <tr>\n",
       "      <th>4</th>\n",
       "      <td>5</td>\n",
       "      <td>Steve Martin|Diane Keaton|Martin Short|Kimberl...</td>\n",
       "      <td>Albert Hackett</td>\n",
       "      <td>106.0</td>\n",
       "      <td>$30,000,000</td>\n",
       "      <td>fatherhood|doberman|dog|mansion</td>\n",
       "    </tr>\n",
       "  </tbody>\n",
       "</table>\n",
       "</div>"
      ],
      "text/plain": [
       "   movieId                                         title_cast  \\\n",
       "0        1  Tom Hanks|Tim Allen|Don Rickles|Jim Varney|Wal...   \n",
       "1        2  Robin Williams|Jonathan Hyde|Kirsten Dunst|Bra...   \n",
       "2        3  Walter Matthau|Jack Lemmon|Sophia Loren|Ann-Ma...   \n",
       "3        4  Whitney Houston|Angela Bassett|Loretta Devine|...   \n",
       "4        5  Steve Martin|Diane Keaton|Martin Short|Kimberl...   \n",
       "\n",
       "              director  runtime       budget  \\\n",
       "0        John Lasseter     81.0  $30,000,000   \n",
       "1   Jonathan Hensleigh    104.0  $65,000,000   \n",
       "2  Mark Steven Johnson    101.0  $25,000,000   \n",
       "3       Terry McMillan    124.0  $16,000,000   \n",
       "4       Albert Hackett    106.0  $30,000,000   \n",
       "\n",
       "                                       plot_keywords  \n",
       "0                   toy|rivalry|cowboy|cgi animation  \n",
       "1                   board game|adventurer|fight|game  \n",
       "2                         boat|lake|neighbor|rivalry  \n",
       "3  black american|husband wife relationship|betra...  \n",
       "4                    fatherhood|doberman|dog|mansion  "
      ]
     },
     "execution_count": 6,
     "metadata": {},
     "output_type": "execute_result"
    }
   ],
   "source": [
    "df_imdb.head()"
   ]
  },
  {
   "cell_type": "code",
   "execution_count": 7,
   "metadata": {
    "execution": {
     "iopub.execute_input": "2023-07-17T07:07:48.798963Z",
     "iopub.status.busy": "2023-07-17T07:07:48.798346Z",
     "iopub.status.idle": "2023-07-17T07:07:48.821131Z",
     "shell.execute_reply": "2023-07-17T07:07:48.819889Z",
     "shell.execute_reply.started": "2023-07-17T07:07:48.798922Z"
    }
   },
   "outputs": [],
   "source": [
    "df_tags.head()"
   ]
  },
  {
   "cell_type": "code",
   "execution_count": 8,
   "metadata": {
    "execution": {
     "iopub.execute_input": "2023-07-17T07:07:48.823188Z",
     "iopub.status.busy": "2023-07-17T07:07:48.822714Z",
     "iopub.status.idle": "2023-07-17T07:07:48.842494Z",
     "shell.execute_reply": "2023-07-17T07:07:48.841233Z",
     "shell.execute_reply.started": "2023-07-17T07:07:48.823147Z"
    }
   },
   "outputs": [],
   "source": [
    "df_gtags.head()"
   ]
  },
  {
   "cell_type": "code",
   "execution_count": 9,
   "metadata": {
    "execution": {
     "iopub.execute_input": "2023-07-17T07:07:48.844825Z",
     "iopub.status.busy": "2023-07-17T07:07:48.843927Z",
     "iopub.status.idle": "2023-07-17T07:07:48.865107Z",
     "shell.execute_reply": "2023-07-17T07:07:48.863549Z",
     "shell.execute_reply.started": "2023-07-17T07:07:48.844790Z"
    }
   },
   "outputs": [],
   "source": [
    "df_links.head()"
   ]
  },
  {
   "cell_type": "code",
   "execution_count": 10,
   "metadata": {
    "execution": {
     "iopub.execute_input": "2023-07-17T07:07:48.867630Z",
     "iopub.status.busy": "2023-07-17T07:07:48.866664Z",
     "iopub.status.idle": "2023-07-17T07:07:48.884264Z",
     "shell.execute_reply": "2023-07-17T07:07:48.882892Z",
     "shell.execute_reply.started": "2023-07-17T07:07:48.867594Z"
    }
   },
   "outputs": [],
   "source": [
    "df_gscores.head()"
   ]
  },
  {
   "cell_type": "code",
   "execution_count": 11,
   "metadata": {
    "execution": {
     "iopub.execute_input": "2023-07-17T07:07:48.885903Z",
     "iopub.status.busy": "2023-07-17T07:07:48.885462Z",
     "iopub.status.idle": "2023-07-17T07:07:48.904148Z",
     "shell.execute_reply": "2023-07-17T07:07:48.903054Z",
     "shell.execute_reply.started": "2023-07-17T07:07:48.885863Z"
    }
   },
   "outputs": [
    {
     "data": {
      "text/html": [
       "<div>\n",
       "<style scoped>\n",
       "    .dataframe tbody tr th:only-of-type {\n",
       "        vertical-align: middle;\n",
       "    }\n",
       "\n",
       "    .dataframe tbody tr th {\n",
       "        vertical-align: top;\n",
       "    }\n",
       "\n",
       "    .dataframe thead th {\n",
       "        text-align: right;\n",
       "    }\n",
       "</style>\n",
       "<table border=\"1\" class=\"dataframe\">\n",
       "  <thead>\n",
       "    <tr style=\"text-align: right;\">\n",
       "      <th></th>\n",
       "      <th>userId</th>\n",
       "      <th>movieId</th>\n",
       "      <th>rating</th>\n",
       "      <th>timestamp</th>\n",
       "    </tr>\n",
       "  </thead>\n",
       "  <tbody>\n",
       "    <tr>\n",
       "      <th>0</th>\n",
       "      <td>5163</td>\n",
       "      <td>57669</td>\n",
       "      <td>4.0</td>\n",
       "      <td>1518349992</td>\n",
       "    </tr>\n",
       "    <tr>\n",
       "      <th>1</th>\n",
       "      <td>106343</td>\n",
       "      <td>5</td>\n",
       "      <td>4.5</td>\n",
       "      <td>1206238739</td>\n",
       "    </tr>\n",
       "    <tr>\n",
       "      <th>2</th>\n",
       "      <td>146790</td>\n",
       "      <td>5459</td>\n",
       "      <td>5.0</td>\n",
       "      <td>1076215539</td>\n",
       "    </tr>\n",
       "    <tr>\n",
       "      <th>3</th>\n",
       "      <td>106362</td>\n",
       "      <td>32296</td>\n",
       "      <td>2.0</td>\n",
       "      <td>1423042565</td>\n",
       "    </tr>\n",
       "    <tr>\n",
       "      <th>4</th>\n",
       "      <td>9041</td>\n",
       "      <td>366</td>\n",
       "      <td>3.0</td>\n",
       "      <td>833375837</td>\n",
       "    </tr>\n",
       "  </tbody>\n",
       "</table>\n",
       "</div>"
      ],
      "text/plain": [
       "   userId  movieId  rating   timestamp\n",
       "0    5163    57669     4.0  1518349992\n",
       "1  106343        5     4.5  1206238739\n",
       "2  146790     5459     5.0  1076215539\n",
       "3  106362    32296     2.0  1423042565\n",
       "4    9041      366     3.0   833375837"
      ]
     },
     "execution_count": 11,
     "metadata": {},
     "output_type": "execute_result"
    }
   ],
   "source": [
    "df_train.head()"
   ]
  },
  {
   "cell_type": "code",
   "execution_count": 12,
   "metadata": {
    "execution": {
     "iopub.execute_input": "2023-07-17T07:07:48.905911Z",
     "iopub.status.busy": "2023-07-17T07:07:48.905577Z",
     "iopub.status.idle": "2023-07-17T07:07:48.918726Z",
     "shell.execute_reply": "2023-07-17T07:07:48.917501Z",
     "shell.execute_reply.started": "2023-07-17T07:07:48.905882Z"
    }
   },
   "outputs": [
    {
     "data": {
      "text/html": [
       "<div>\n",
       "<style scoped>\n",
       "    .dataframe tbody tr th:only-of-type {\n",
       "        vertical-align: middle;\n",
       "    }\n",
       "\n",
       "    .dataframe tbody tr th {\n",
       "        vertical-align: top;\n",
       "    }\n",
       "\n",
       "    .dataframe thead th {\n",
       "        text-align: right;\n",
       "    }\n",
       "</style>\n",
       "<table border=\"1\" class=\"dataframe\">\n",
       "  <thead>\n",
       "    <tr style=\"text-align: right;\">\n",
       "      <th></th>\n",
       "      <th>userId</th>\n",
       "      <th>movieId</th>\n",
       "    </tr>\n",
       "  </thead>\n",
       "  <tbody>\n",
       "    <tr>\n",
       "      <th>0</th>\n",
       "      <td>1</td>\n",
       "      <td>2011</td>\n",
       "    </tr>\n",
       "    <tr>\n",
       "      <th>1</th>\n",
       "      <td>1</td>\n",
       "      <td>4144</td>\n",
       "    </tr>\n",
       "    <tr>\n",
       "      <th>2</th>\n",
       "      <td>1</td>\n",
       "      <td>5767</td>\n",
       "    </tr>\n",
       "    <tr>\n",
       "      <th>3</th>\n",
       "      <td>1</td>\n",
       "      <td>6711</td>\n",
       "    </tr>\n",
       "    <tr>\n",
       "      <th>4</th>\n",
       "      <td>1</td>\n",
       "      <td>7318</td>\n",
       "    </tr>\n",
       "  </tbody>\n",
       "</table>\n",
       "</div>"
      ],
      "text/plain": [
       "   userId  movieId\n",
       "0       1     2011\n",
       "1       1     4144\n",
       "2       1     5767\n",
       "3       1     6711\n",
       "4       1     7318"
      ]
     },
     "execution_count": 12,
     "metadata": {},
     "output_type": "execute_result"
    }
   ],
   "source": [
    "df_test.head()"
   ]
  },
  {
   "cell_type": "markdown",
   "metadata": {},
   "source": [
    "<a id=\"four\"></a>\n",
    "## 4. Exploratory Data Analysis\n",
    "<a href=#cont>Back to Table of Contents</a>"
   ]
  },
  {
   "cell_type": "markdown",
   "metadata": {},
   "source": [
    "## Reading the shape for all dfs"
   ]
  },
  {
   "cell_type": "code",
   "execution_count": 15,
   "metadata": {
    "execution": {
     "iopub.execute_input": "2023-07-17T07:07:48.938868Z",
     "iopub.status.busy": "2023-07-17T07:07:48.938214Z",
     "iopub.status.idle": "2023-07-17T07:07:48.949867Z",
     "shell.execute_reply": "2023-07-17T07:07:48.948580Z",
     "shell.execute_reply.started": "2023-07-17T07:07:48.938835Z"
    }
   },
   "outputs": [
    {
     "name": "stdout",
     "output_type": "stream",
     "text": [
      "(62423, 3)\n",
      "(27278, 6)\n",
      "(10000038, 4)\n",
      "(5000019, 2)\n"
     ]
    }
   ],
   "source": [
    "list_dataframes = [ df_movies, df_imdb, df_tags, df_links, df_gscores, df_gtags, df_train, df_test ]\n",
    "\n",
    "for df in list_dataframes:\n",
    "    print(df.shape)"
   ]
  },
  {
   "cell_type": "markdown",
   "metadata": {},
   "source": [
    "From `8` Dataframes above, it is observed that:\n",
    "- `Movies` has ~ **63 500** rows, and **3** columns\n",
    "- `imdb` has ~ **27 300** rows, and **6** columns\n",
    "- `tags` has ~ **1.1M** rows, and **4** columns\n",
    "- `links` has ~ **62 300** rows, and **3** columns\n",
    "- `genome_scores` has ~ **15.6M** rows, and **3** columns\n",
    "- `genome_tags` has ~ **1100** rows, and **2** columns\n",
    "- `train` has ~ **10M** rows, and **4** columns\n",
    "- `test` has ~ **5M** rows, and **2** columns"
   ]
  },
  {
   "cell_type": "markdown",
   "metadata": {},
   "source": [
    "### Checking for null values in each dataframe"
   ]
  },
  {
   "cell_type": "code",
   "execution_count": 16,
   "metadata": {
    "execution": {
     "iopub.execute_input": "2023-07-17T07:07:48.956750Z",
     "iopub.status.busy": "2023-07-17T07:07:48.956347Z",
     "iopub.status.idle": "2023-07-17T07:07:49.012220Z",
     "shell.execute_reply": "2023-07-17T07:07:49.010964Z",
     "shell.execute_reply.started": "2023-07-17T07:07:48.956718Z"
    }
   },
   "outputs": [
    {
     "data": {
      "text/plain": [
       "movieId    0\n",
       "title      0\n",
       "genres     0\n",
       "dtype: int64"
      ]
     },
     "execution_count": 16,
     "metadata": {},
     "output_type": "execute_result"
    }
   ],
   "source": [
    "df_movies.isnull().sum()"
   ]
  },
  {
   "cell_type": "code",
   "execution_count": 18,
   "metadata": {
    "execution": {
     "iopub.execute_input": "2023-07-17T07:07:49.013805Z",
     "iopub.status.busy": "2023-07-17T07:07:49.013469Z",
     "iopub.status.idle": "2023-07-17T07:07:49.057800Z",
     "shell.execute_reply": "2023-07-17T07:07:49.055881Z",
     "shell.execute_reply.started": "2023-07-17T07:07:49.013777Z"
    }
   },
   "outputs": [
    {
     "data": {
      "text/plain": [
       "movieId              0\n",
       "title_cast       10068\n",
       "director          9874\n",
       "runtime          12089\n",
       "budget           19372\n",
       "plot_keywords    11078\n",
       "dtype: int64"
      ]
     },
     "execution_count": 18,
     "metadata": {},
     "output_type": "execute_result"
    }
   ],
   "source": [
    "df_imdb.isnull().sum()"
   ]
  },
  {
   "cell_type": "code",
   "execution_count": 19,
   "metadata": {
    "execution": {
     "iopub.execute_input": "2023-07-17T07:07:49.060042Z",
     "iopub.status.busy": "2023-07-17T07:07:49.059641Z",
     "iopub.status.idle": "2023-07-17T07:07:49.421990Z",
     "shell.execute_reply": "2023-07-17T07:07:49.420976Z",
     "shell.execute_reply.started": "2023-07-17T07:07:49.059993Z"
    }
   },
   "outputs": [],
   "source": [
    "# df_tags.isnull().sum()"
   ]
  },
  {
   "cell_type": "code",
   "execution_count": 20,
   "metadata": {
    "execution": {
     "iopub.execute_input": "2023-07-17T07:07:49.424165Z",
     "iopub.status.busy": "2023-07-17T07:07:49.423289Z",
     "iopub.status.idle": "2023-07-17T07:07:49.432457Z",
     "shell.execute_reply": "2023-07-17T07:07:49.431375Z",
     "shell.execute_reply.started": "2023-07-17T07:07:49.424135Z"
    }
   },
   "outputs": [],
   "source": [
    "# df_links.isnull().sum()"
   ]
  },
  {
   "cell_type": "code",
   "execution_count": 21,
   "metadata": {
    "execution": {
     "iopub.execute_input": "2023-07-17T07:07:49.434208Z",
     "iopub.status.busy": "2023-07-17T07:07:49.433827Z",
     "iopub.status.idle": "2023-07-17T07:07:49.530714Z",
     "shell.execute_reply": "2023-07-17T07:07:49.529554Z",
     "shell.execute_reply.started": "2023-07-17T07:07:49.434179Z"
    }
   },
   "outputs": [],
   "source": [
    "# df_gscores.isnull().sum()"
   ]
  },
  {
   "cell_type": "code",
   "execution_count": 22,
   "metadata": {
    "execution": {
     "iopub.execute_input": "2023-07-17T07:07:49.532515Z",
     "iopub.status.busy": "2023-07-17T07:07:49.532150Z",
     "iopub.status.idle": "2023-07-17T07:07:49.543499Z",
     "shell.execute_reply": "2023-07-17T07:07:49.542064Z",
     "shell.execute_reply.started": "2023-07-17T07:07:49.532486Z"
    }
   },
   "outputs": [],
   "source": [
    "# df_gtags.isnull().sum()"
   ]
  },
  {
   "cell_type": "code",
   "execution_count": 23,
   "metadata": {
    "execution": {
     "iopub.execute_input": "2023-07-17T07:07:49.544809Z",
     "iopub.status.busy": "2023-07-17T07:07:49.544492Z",
     "iopub.status.idle": "2023-07-17T07:07:49.599466Z",
     "shell.execute_reply": "2023-07-17T07:07:49.598536Z",
     "shell.execute_reply.started": "2023-07-17T07:07:49.544782Z"
    }
   },
   "outputs": [
    {
     "data": {
      "text/plain": [
       "userId       0\n",
       "movieId      0\n",
       "rating       0\n",
       "timestamp    0\n",
       "dtype: int64"
      ]
     },
     "execution_count": 23,
     "metadata": {},
     "output_type": "execute_result"
    }
   ],
   "source": [
    "df_train.isnull().sum()"
   ]
  },
  {
   "cell_type": "code",
   "execution_count": 24,
   "metadata": {
    "execution": {
     "iopub.execute_input": "2023-07-17T07:07:49.601914Z",
     "iopub.status.busy": "2023-07-17T07:07:49.600769Z",
     "iopub.status.idle": "2023-07-17T07:07:49.618555Z",
     "shell.execute_reply": "2023-07-17T07:07:49.616898Z",
     "shell.execute_reply.started": "2023-07-17T07:07:49.601881Z"
    }
   },
   "outputs": [
    {
     "data": {
      "text/plain": [
       "userId     0\n",
       "movieId    0\n",
       "dtype: int64"
      ]
     },
     "execution_count": 24,
     "metadata": {},
     "output_type": "execute_result"
    }
   ],
   "source": [
    "df_test.isnull().sum()"
   ]
  },
  {
   "cell_type": "markdown",
   "metadata": {},
   "source": [
    "### From above, it is observed that:\n",
    "- the `imdb` dataframe has a significant number of null values within the data set. \n",
    "- the `tags` dataframe has a low number of null values.\n",
    "- the `links` dataframe has a low number of null values."
   ]
  },
  {
   "cell_type": "markdown",
   "metadata": {},
   "source": [
    "### Visualizing the `imdb` dataframe which has a significant number of null values."
   ]
  },
  {
   "cell_type": "code",
   "execution_count": 25,
   "metadata": {
    "execution": {
     "iopub.execute_input": "2023-07-17T07:07:49.620844Z",
     "iopub.status.busy": "2023-07-17T07:07:49.620408Z",
     "iopub.status.idle": "2023-07-17T07:07:50.080524Z",
     "shell.execute_reply": "2023-07-17T07:07:50.079327Z",
     "shell.execute_reply.started": "2023-07-17T07:07:49.620805Z"
    }
   },
   "outputs": [
    {
     "data": {
      "image/png": "[encoded data removed]",
      "text/plain": [
       "<Figure size 1000x600 with 1 Axes>"
      ]
     },
     "metadata": {},
     "output_type": "display_data"
    }
   ],
   "source": [
    "# view percentage of missing values \n",
    "missing_values = df_imdb.isnull().sum()\n",
    "missing_percentage = (missing_values / len(df_imdb)) * 100\n",
    "\n",
    "# Plotting the missing percentage\n",
    "plt.figure(figsize=(10, 6))\n",
    "ax = missing_percentage.plot(kind='bar')\n",
    "plt.xlabel('Columns')\n",
    "plt.ylabel('Missing Percentage')\n",
    "plt.title('Percentage of Missing Values in df_imdb')\n",
    "plt.xticks(rotation=45)\n",
    "\n",
    "# Display actual percentage values on top of each bar\n",
    "for p in ax.patches:\n",
    "    percentage = f'{p.get_height():.2f}%'\n",
    "    x = p.get_x() + p.get_width() / 2\n",
    "    y = p.get_height()\n",
    "    ax.annotate(percentage, (x, y), ha='center', va='bottom')\n",
    "\n",
    "plt.show()"
   ]
  },
  {
   "cell_type": "markdown",
   "metadata": {},
   "source": [
    "### The Budget column will be dropped since it has over **70%** of missing data."
   ]
  },
  {
   "cell_type": "markdown",
   "metadata": {},
   "source": [
    "---\n",
    "## Univariate Analysis"
   ]
  },
  {
   "cell_type": "markdown",
   "metadata": {},
   "source": [
    "### 1. Ratings Analysis"
   ]
  },
  {
   "cell_type": "code",
   "execution_count": 26,
   "metadata": {
    "execution": {
     "iopub.execute_input": "2023-07-17T07:07:50.083087Z",
     "iopub.status.busy": "2023-07-17T07:07:50.082346Z",
     "iopub.status.idle": "2023-07-17T07:07:50.970813Z",
     "shell.execute_reply": "2023-07-17T07:07:50.969551Z",
     "shell.execute_reply.started": "2023-07-17T07:07:50.083044Z"
    }
   },
   "outputs": [
    {
     "data": {
      "image/png": "[encoded data removed]",
      "text/plain": [
       "<Figure size 1500x1000 with 1 Axes>"
      ]
     },
     "metadata": {},
     "output_type": "display_data"
    }
   ],
   "source": [
    "# Count the frequencies\n",
    "values, counts = np.unique(df_train['rating'], return_counts=True)\n",
    "\n",
    "# Create a bar chart\n",
    "plt.bar(values, counts, width=0.4, align='center')\n",
    "\n",
    "# Set x-axis tick positions and labels\n",
    "plt.xticks(np.arange(0.5, max(values)+0.5, 0.5))\n",
    "\n",
    "\n",
    "# Set labels and title\n",
    "plt.xlabel('Ratings')\n",
    "plt.ylabel('Frequency')\n",
    "plt.title('Frequency Bar Chart')\n",
    "\n",
    "# Show the bar chart\n",
    "plt.show()"
   ]
  },
  {
   "cell_type": "code",
   "execution_count": 24,
   "metadata": {
    "execution": {
     "iopub.execute_input": "2023-07-17T07:07:50.972691Z",
     "iopub.status.busy": "2023-07-17T07:07:50.972322Z",
     "iopub.status.idle": "2023-07-17T07:07:51.169066Z",
     "shell.execute_reply": "2023-07-17T07:07:51.168185Z",
     "shell.execute_reply.started": "2023-07-17T07:07:50.972661Z"
    }
   },
   "outputs": [
    {
     "data": {
      "text/html": [
       "<div>\n",
       "<style scoped>\n",
       "    .dataframe tbody tr th:only-of-type {\n",
       "        vertical-align: middle;\n",
       "    }\n",
       "\n",
       "    .dataframe tbody tr th {\n",
       "        vertical-align: top;\n",
       "    }\n",
       "\n",
       "    .dataframe thead th {\n",
       "        text-align: right;\n",
       "    }\n",
       "</style>\n",
       "<table border=\"1\" class=\"dataframe\">\n",
       "  <thead>\n",
       "    <tr style=\"text-align: right;\">\n",
       "      <th></th>\n",
       "      <th>movieId</th>\n",
       "      <th>title</th>\n",
       "      <th>genres</th>\n",
       "      <th>year</th>\n",
       "    </tr>\n",
       "  </thead>\n",
       "  <tbody>\n",
       "    <tr>\n",
       "      <th>0</th>\n",
       "      <td>1</td>\n",
       "      <td>Toy Story (1995)</td>\n",
       "      <td>Adventure|Animation|Children|Comedy|Fantasy</td>\n",
       "      <td>1995</td>\n",
       "    </tr>\n",
       "    <tr>\n",
       "      <th>1</th>\n",
       "      <td>2</td>\n",
       "      <td>Jumanji (1995)</td>\n",
       "      <td>Adventure|Children|Fantasy</td>\n",
       "      <td>1995</td>\n",
       "    </tr>\n",
       "    <tr>\n",
       "      <th>2</th>\n",
       "      <td>3</td>\n",
       "      <td>Grumpier Old Men (1995)</td>\n",
       "      <td>Comedy|Romance</td>\n",
       "      <td>1995</td>\n",
       "    </tr>\n",
       "    <tr>\n",
       "      <th>3</th>\n",
       "      <td>4</td>\n",
       "      <td>Waiting to Exhale (1995)</td>\n",
       "      <td>Comedy|Drama|Romance</td>\n",
       "      <td>1995</td>\n",
       "    </tr>\n",
       "    <tr>\n",
       "      <th>4</th>\n",
       "      <td>5</td>\n",
       "      <td>Father of the Bride Part II (1995)</td>\n",
       "      <td>Comedy</td>\n",
       "      <td>1995</td>\n",
       "    </tr>\n",
       "  </tbody>\n",
       "</table>\n",
       "</div>"
      ],
      "text/plain": [
       "   movieId                               title  \\\n",
       "0        1                    Toy Story (1995)   \n",
       "1        2                      Jumanji (1995)   \n",
       "2        3             Grumpier Old Men (1995)   \n",
       "3        4            Waiting to Exhale (1995)   \n",
       "4        5  Father of the Bride Part II (1995)   \n",
       "\n",
       "                                        genres  year  \n",
       "0  Adventure|Animation|Children|Comedy|Fantasy  1995  \n",
       "1                   Adventure|Children|Fantasy  1995  \n",
       "2                               Comedy|Romance  1995  \n",
       "3                         Comedy|Drama|Romance  1995  \n",
       "4                                       Comedy  1995  "
      ]
     },
     "execution_count": 24,
     "metadata": {},
     "output_type": "execute_result"
    }
   ],
   "source": [
    "# creating extracting the year from our movie titles column\n",
    "df_movies['year'] = df_movies['title'].str.extract('\\((\\d{4})\\)', expand=True)\n",
    "\n",
    "# fill the missing data in the year column with the most common year\n",
    "mode_movie = df_movies.year.mode()[0]\n",
    "df_movies['year'].fillna(mode_movie, inplace=True)\n",
    "\n",
    "# change year to an integer\n",
    "df_movies['year'] = df_movies['year'].astype('int')\n",
    "df_movies.head()"
   ]
  },
  {
   "cell_type": "code",
   "execution_count": 25,
   "metadata": {
    "execution": {
     "iopub.execute_input": "2023-07-17T07:07:51.170947Z",
     "iopub.status.busy": "2023-07-17T07:07:51.170368Z",
     "iopub.status.idle": "2023-07-17T07:07:53.521987Z",
     "shell.execute_reply": "2023-07-17T07:07:53.521080Z",
     "shell.execute_reply.started": "2023-07-17T07:07:51.170916Z"
    }
   },
   "outputs": [
    {
     "data": {
      "text/html": [
       "<div>\n",
       "<style scoped>\n",
       "    .dataframe tbody tr th:only-of-type {\n",
       "        vertical-align: middle;\n",
       "    }\n",
       "\n",
       "    .dataframe tbody tr th {\n",
       "        vertical-align: top;\n",
       "    }\n",
       "\n",
       "    .dataframe thead th {\n",
       "        text-align: right;\n",
       "    }\n",
       "</style>\n",
       "<table border=\"1\" class=\"dataframe\">\n",
       "  <thead>\n",
       "    <tr style=\"text-align: right;\">\n",
       "      <th></th>\n",
       "      <th>userId</th>\n",
       "      <th>movieId</th>\n",
       "      <th>rating</th>\n",
       "      <th>timestamp</th>\n",
       "      <th>title</th>\n",
       "      <th>genres</th>\n",
       "      <th>year</th>\n",
       "    </tr>\n",
       "  </thead>\n",
       "  <tbody>\n",
       "    <tr>\n",
       "      <th>0</th>\n",
       "      <td>5163</td>\n",
       "      <td>57669</td>\n",
       "      <td>4.0</td>\n",
       "      <td>1518349992</td>\n",
       "      <td>In Bruges (2008)</td>\n",
       "      <td>Comedy|Crime|Drama|Thriller</td>\n",
       "      <td>2008</td>\n",
       "    </tr>\n",
       "    <tr>\n",
       "      <th>1</th>\n",
       "      <td>87388</td>\n",
       "      <td>57669</td>\n",
       "      <td>3.5</td>\n",
       "      <td>1237455297</td>\n",
       "      <td>In Bruges (2008)</td>\n",
       "      <td>Comedy|Crime|Drama|Thriller</td>\n",
       "      <td>2008</td>\n",
       "    </tr>\n",
       "    <tr>\n",
       "      <th>2</th>\n",
       "      <td>137050</td>\n",
       "      <td>57669</td>\n",
       "      <td>4.0</td>\n",
       "      <td>1425631854</td>\n",
       "      <td>In Bruges (2008)</td>\n",
       "      <td>Comedy|Crime|Drama|Thriller</td>\n",
       "      <td>2008</td>\n",
       "    </tr>\n",
       "    <tr>\n",
       "      <th>3</th>\n",
       "      <td>120490</td>\n",
       "      <td>57669</td>\n",
       "      <td>4.5</td>\n",
       "      <td>1408228517</td>\n",
       "      <td>In Bruges (2008)</td>\n",
       "      <td>Comedy|Crime|Drama|Thriller</td>\n",
       "      <td>2008</td>\n",
       "    </tr>\n",
       "    <tr>\n",
       "      <th>4</th>\n",
       "      <td>50616</td>\n",
       "      <td>57669</td>\n",
       "      <td>4.5</td>\n",
       "      <td>1446941640</td>\n",
       "      <td>In Bruges (2008)</td>\n",
       "      <td>Comedy|Crime|Drama|Thriller</td>\n",
       "      <td>2008</td>\n",
       "    </tr>\n",
       "  </tbody>\n",
       "</table>\n",
       "</div>"
      ],
      "text/plain": [
       "   userId  movieId  rating   timestamp             title  \\\n",
       "0    5163    57669     4.0  1518349992  In Bruges (2008)   \n",
       "1   87388    57669     3.5  1237455297  In Bruges (2008)   \n",
       "2  137050    57669     4.0  1425631854  In Bruges (2008)   \n",
       "3  120490    57669     4.5  1408228517  In Bruges (2008)   \n",
       "4   50616    57669     4.5  1446941640  In Bruges (2008)   \n",
       "\n",
       "                        genres  year  \n",
       "0  Comedy|Crime|Drama|Thriller  2008  \n",
       "1  Comedy|Crime|Drama|Thriller  2008  \n",
       "2  Comedy|Crime|Drama|Thriller  2008  \n",
       "3  Comedy|Crime|Drama|Thriller  2008  \n",
       "4  Comedy|Crime|Drama|Thriller  2008  "
      ]
     },
     "execution_count": 25,
     "metadata": {},
     "output_type": "execute_result"
    }
   ],
   "source": [
    "# merge the train dataframe with the movies dataframe\n",
    "merged_movies = df_train.merge(df_movies, how='inner', on='movieId')\n",
    "merged_movies.head()"
   ]
  },
  {
   "cell_type": "code",
   "execution_count": 26,
   "metadata": {
    "execution": {
     "iopub.execute_input": "2023-07-17T07:07:53.524203Z",
     "iopub.status.busy": "2023-07-17T07:07:53.523328Z",
     "iopub.status.idle": "2023-07-17T07:07:58.502846Z",
     "shell.execute_reply": "2023-07-17T07:07:58.501813Z",
     "shell.execute_reply.started": "2023-07-17T07:07:53.524168Z"
    }
   },
   "outputs": [
    {
     "data": {
      "image/png": "[encoded data removed]",
      "text/plain": [
       "<Figure size 1500x900 with 3 Axes>"
      ]
     },
     "metadata": {},
     "output_type": "display_data"
    }
   ],
   "source": [
    "# plot average ratings per year\n",
    "# Calculate the average ratings per year\n",
    "average_ratings = merged_movies.groupby('year')['rating'].mean()\n",
    "\n",
    "# Calculate the number of movies released by year\n",
    "movies_per_year = df_movies.groupby('year').size()\n",
    "\n",
    "# Calculate the number of ratings per year\n",
    "ratings_per_year = merged_movies.groupby('year').size()\n",
    "\n",
    "# Create subplots for number of movies and mean ratings side by side\n",
    "fig, axes = plt.subplots(3, 1, figsize=(15, 9))\n",
    "\n",
    "# Plot number of movies released by year\n",
    "axes[0].plot(movies_per_year.index, movies_per_year.values)\n",
    "axes[0].set_xticks(np.arange(min(movies_per_year.index), max(movies_per_year.index)+1, 2))\n",
    "axes[0].tick_params(axis='x', rotation=90)\n",
    "axes[0].set_xlabel('Year')\n",
    "axes[0].set_ylabel('Number of Movies')\n",
    "axes[0].set_title('Number of Movies Released by Year')\n",
    "\n",
    "# Plot number of ratings by year\n",
    "axes[1].plot(ratings_per_year.index, ratings_per_year.values)\n",
    "axes[1].set_xticks(np.arange(min(ratings_per_year.index), max(ratings_per_year.index)+1, 2))\n",
    "axes[1].tick_params(axis='x', rotation=90)\n",
    "axes[1].set_xlabel('Year')\n",
    "axes[1].set_ylabel('Number of Ratings')\n",
    "axes[1].set_title('Number of Movie Ratings by Year')\n",
    "\n",
    "# Plot mean ratings per year\n",
    "axes[2].plot(average_ratings.index, average_ratings.values)\n",
    "axes[2].set_xticks(np.arange(min(movies_per_year.index), max(movies_per_year.index)+1, 2))\n",
    "axes[2].tick_params(axis='x', rotation=90)\n",
    "axes[2].set_xlabel('Year')\n",
    "axes[2].set_ylabel('Mean Rating')\n",
    "axes[2].set_title('Mean Ratings per Year')\n",
    "\n",
    "# Adjust spacing between subplots\n",
    "plt.subplots_adjust(hspace=0.7);"
   ]
  },
  {
   "cell_type": "markdown",
   "metadata": {},
   "source": [
    "The plot \"Number of Movies Released by Year\" illustrates the count of movies released over the years. The data reveals a sparse number of movies released before 1930, indicating a limited presence during that period. Subsequently, there is a consistent upward trend in the number of movies released each year, reaching its peak in 2015. Following this peak, there is a gradual decline in movie releases year after year. This pattern suggests a significant increase in movie production over time, followed by a gradual decrease in recent years.\n",
    "\n",
    "The number of ratings plot depicting the number of ratings provides insights into the minimal number of ratings for movies before 1930. This scarcity of ratings during that period helps explain the extreme variations in movie ratings observed for years within this timeframe. The limited quantity of ratings contributes to the higher likelihood of encountering both high and low ratings for movies released during this period. Furthermore, the plot highlights a significant decline in the number of ratings for movies released after 2000. This decline suggests a diminishing trend in the number of movie ratings during more recent years.\n",
    "\n",
    "The plot depicting the average movie ratings over the years does not exhibit a distinct trend. The maximum average rating observed is 4.0, which is reached in multiple years as evident from the line plot. Furthermore, it can be observed that the ratings in years since 2000 have remained below this peak rating, hovering around 3.5. This suggests that the average movie ratings have generally remained lower in recent years compared to the peak rating achieved in previous years"
   ]
  },
  {
   "cell_type": "markdown",
   "metadata": {},
   "source": [
    "---\n",
    "### 2. Genres Analysis "
   ]
  },
  {
   "cell_type": "markdown",
   "metadata": {},
   "source": [
    "### We will analyse the Genres we have in the dataset"
   ]
  },
  {
   "cell_type": "code",
   "execution_count": 27,
   "metadata": {
    "execution": {
     "iopub.execute_input": "2023-07-17T07:07:58.505304Z",
     "iopub.status.busy": "2023-07-17T07:07:58.504479Z",
     "iopub.status.idle": "2023-07-17T07:07:58.755231Z",
     "shell.execute_reply": "2023-07-17T07:07:58.753926Z",
     "shell.execute_reply.started": "2023-07-17T07:07:58.505270Z"
    }
   },
   "outputs": [],
   "source": [
    "# Create dataframe containing only the movieId and genres\n",
    "movies_genres_split = pd.DataFrame(df_movies[['movieId', 'genres']],columns=['movieId', 'genres'])\n",
    "\n",
    "# Splitting the genres seperated by \"|\". Movie-genre combinations are stored as a list\n",
    "movies_genres_split.genres = movies_genres_split.genres.apply(lambda x: x.split('|'))\n",
    "\n",
    "# Creating the expanded dataframe where each movie-genre combination is in a seperate row\n",
    "movies_genres_split = pd.DataFrame([(x.movieId, d) for x in movies_genres_split.itertuples() for d in x.genres],\n",
    "                             columns=['movieId', 'genres'])"
   ]
  },
  {
   "cell_type": "code",
   "execution_count": 28,
   "metadata": {
    "execution": {
     "iopub.execute_input": "2023-07-17T07:07:58.757284Z",
     "iopub.status.busy": "2023-07-17T07:07:58.756886Z",
     "iopub.status.idle": "2023-07-17T07:07:58.768844Z",
     "shell.execute_reply": "2023-07-17T07:07:58.767575Z",
     "shell.execute_reply.started": "2023-07-17T07:07:58.757252Z"
    }
   },
   "outputs": [
    {
     "data": {
      "text/html": [
       "<div>\n",
       "<style scoped>\n",
       "    .dataframe tbody tr th:only-of-type {\n",
       "        vertical-align: middle;\n",
       "    }\n",
       "\n",
       "    .dataframe tbody tr th {\n",
       "        vertical-align: top;\n",
       "    }\n",
       "\n",
       "    .dataframe thead th {\n",
       "        text-align: right;\n",
       "    }\n",
       "</style>\n",
       "<table border=\"1\" class=\"dataframe\">\n",
       "  <thead>\n",
       "    <tr style=\"text-align: right;\">\n",
       "      <th></th>\n",
       "      <th>movieId</th>\n",
       "      <th>genres</th>\n",
       "    </tr>\n",
       "  </thead>\n",
       "  <tbody>\n",
       "    <tr>\n",
       "      <th>0</th>\n",
       "      <td>1</td>\n",
       "      <td>Adventure</td>\n",
       "    </tr>\n",
       "    <tr>\n",
       "      <th>1</th>\n",
       "      <td>1</td>\n",
       "      <td>Animation</td>\n",
       "    </tr>\n",
       "    <tr>\n",
       "      <th>2</th>\n",
       "      <td>1</td>\n",
       "      <td>Children</td>\n",
       "    </tr>\n",
       "    <tr>\n",
       "      <th>3</th>\n",
       "      <td>1</td>\n",
       "      <td>Comedy</td>\n",
       "    </tr>\n",
       "    <tr>\n",
       "      <th>4</th>\n",
       "      <td>1</td>\n",
       "      <td>Fantasy</td>\n",
       "    </tr>\n",
       "    <tr>\n",
       "      <th>5</th>\n",
       "      <td>2</td>\n",
       "      <td>Adventure</td>\n",
       "    </tr>\n",
       "    <tr>\n",
       "      <th>6</th>\n",
       "      <td>2</td>\n",
       "      <td>Children</td>\n",
       "    </tr>\n",
       "    <tr>\n",
       "      <th>7</th>\n",
       "      <td>2</td>\n",
       "      <td>Fantasy</td>\n",
       "    </tr>\n",
       "    <tr>\n",
       "      <th>8</th>\n",
       "      <td>3</td>\n",
       "      <td>Comedy</td>\n",
       "    </tr>\n",
       "    <tr>\n",
       "      <th>9</th>\n",
       "      <td>3</td>\n",
       "      <td>Romance</td>\n",
       "    </tr>\n",
       "  </tbody>\n",
       "</table>\n",
       "</div>"
      ],
      "text/plain": [
       "   movieId     genres\n",
       "0        1  Adventure\n",
       "1        1  Animation\n",
       "2        1   Children\n",
       "3        1     Comedy\n",
       "4        1    Fantasy\n",
       "5        2  Adventure\n",
       "6        2   Children\n",
       "7        2    Fantasy\n",
       "8        3     Comedy\n",
       "9        3    Romance"
      ]
     },
     "execution_count": 28,
     "metadata": {},
     "output_type": "execute_result"
    }
   ],
   "source": [
    "movies_genres_split.head(10)"
   ]
  },
  {
   "cell_type": "code",
   "execution_count": 29,
   "metadata": {
    "execution": {
     "iopub.execute_input": "2023-07-17T07:07:58.771744Z",
     "iopub.status.busy": "2023-07-17T07:07:58.770476Z",
     "iopub.status.idle": "2023-07-17T07:07:59.404306Z",
     "shell.execute_reply": "2023-07-17T07:07:59.402897Z",
     "shell.execute_reply.started": "2023-07-17T07:07:58.771707Z"
    }
   },
   "outputs": [
    {
     "data": {
      "image/png": "[encoded data removed]",
      "text/plain": [
       "<Figure size 1330x760 with 1 Axes>"
      ]
     },
     "metadata": {},
     "output_type": "display_data"
    }
   ],
   "source": [
    "# Ploting the genres in descending order\n",
    "plot = plt.figure(figsize=(14, 8), dpi =95)\n",
    "plt.title('Popular Movie Genres In Descending Order\\n', fontsize=18)\n",
    "sns.countplot(y=\"genres\", data=movies_genres_split,order=movies_genres_split['genres']\n",
    "              .value_counts(ascending=False).index, color='darkblue', ec= 'orange', alpha=0.8)\n",
    "plt.ylabel('Genres')\n",
    "plt.xlabel('Count')\n",
    "plt.show()"
   ]
  },
  {
   "cell_type": "markdown",
   "metadata": {},
   "source": [
    "### From above, it is observed that:\n",
    "- We have a total of **19** Different Genres."
   ]
  },
  {
   "cell_type": "markdown",
   "metadata": {},
   "source": [
    "---\n",
    "### 3. Director, Actor Analysis"
   ]
  },
  {
   "cell_type": "markdown",
   "metadata": {},
   "source": [
    "<a id=\"five\"></a>\n",
    "## 5. Data Engineering\n",
    "<a href=#cont>Back to Table of Contents</a>"
   ]
  },
  {
   "cell_type": "markdown",
   "metadata": {},
   "source": [
    "\n",
    "Feature engineering is a crucial step in the process of building machine learning models. It involves transforming raw data into a format that is more suitable and informative for the specific task at hand. By creating new features or modifying existing ones, feature engineering aims to extract relevant information and enhance the predictive power of the model."
   ]
  },
  {
   "cell_type": "markdown",
   "metadata": {},
   "source": [
    "### For analysis purpose, We will merge the `movies`, `imbd`, and `train` Dataframes together where `movieId` in one Dataframe is the same as the `movieId` in the other Dataframe"
   ]
  },
  {
   "cell_type": "code",
   "execution_count": 31,
   "metadata": {
    "execution": {
     "iopub.execute_input": "2023-07-17T07:07:59.436697Z",
     "iopub.status.busy": "2023-07-17T07:07:59.436317Z",
     "iopub.status.idle": "2023-07-17T07:08:03.361100Z",
     "shell.execute_reply": "2023-07-17T07:08:03.359740Z",
     "shell.execute_reply.started": "2023-07-17T07:07:59.436668Z"
    }
   },
   "outputs": [
    {
     "data": {
      "text/html": [
       "<div>\n",
       "<style scoped>\n",
       "    .dataframe tbody tr th:only-of-type {\n",
       "        vertical-align: middle;\n",
       "    }\n",
       "\n",
       "    .dataframe tbody tr th {\n",
       "        vertical-align: top;\n",
       "    }\n",
       "\n",
       "    .dataframe thead th {\n",
       "        text-align: right;\n",
       "    }\n",
       "</style>\n",
       "<table border=\"1\" class=\"dataframe\">\n",
       "  <thead>\n",
       "    <tr style=\"text-align: right;\">\n",
       "      <th></th>\n",
       "      <th>movieId</th>\n",
       "      <th>title</th>\n",
       "      <th>genres</th>\n",
       "      <th>year</th>\n",
       "      <th>title_cast</th>\n",
       "      <th>director</th>\n",
       "      <th>runtime</th>\n",
       "      <th>budget</th>\n",
       "      <th>plot_keywords</th>\n",
       "      <th>userId</th>\n",
       "      <th>rating</th>\n",
       "      <th>timestamp</th>\n",
       "    </tr>\n",
       "  </thead>\n",
       "  <tbody>\n",
       "    <tr>\n",
       "      <th>0</th>\n",
       "      <td>1</td>\n",
       "      <td>Toy Story (1995)</td>\n",
       "      <td>Adventure|Animation|Children|Comedy|Fantasy</td>\n",
       "      <td>1995</td>\n",
       "      <td>Tom Hanks|Tim Allen|Don Rickles|Jim Varney|Wal...</td>\n",
       "      <td>John Lasseter</td>\n",
       "      <td>81.0</td>\n",
       "      <td>$30,000,000</td>\n",
       "      <td>toy|rivalry|cowboy|cgi animation</td>\n",
       "      <td>158849</td>\n",
       "      <td>5.0</td>\n",
       "      <td>994716786</td>\n",
       "    </tr>\n",
       "    <tr>\n",
       "      <th>1</th>\n",
       "      <td>1</td>\n",
       "      <td>Toy Story (1995)</td>\n",
       "      <td>Adventure|Animation|Children|Comedy|Fantasy</td>\n",
       "      <td>1995</td>\n",
       "      <td>Tom Hanks|Tim Allen|Don Rickles|Jim Varney|Wal...</td>\n",
       "      <td>John Lasseter</td>\n",
       "      <td>81.0</td>\n",
       "      <td>$30,000,000</td>\n",
       "      <td>toy|rivalry|cowboy|cgi animation</td>\n",
       "      <td>97203</td>\n",
       "      <td>5.0</td>\n",
       "      <td>942683155</td>\n",
       "    </tr>\n",
       "    <tr>\n",
       "      <th>2</th>\n",
       "      <td>1</td>\n",
       "      <td>Toy Story (1995)</td>\n",
       "      <td>Adventure|Animation|Children|Comedy|Fantasy</td>\n",
       "      <td>1995</td>\n",
       "      <td>Tom Hanks|Tim Allen|Don Rickles|Jim Varney|Wal...</td>\n",
       "      <td>John Lasseter</td>\n",
       "      <td>81.0</td>\n",
       "      <td>$30,000,000</td>\n",
       "      <td>toy|rivalry|cowboy|cgi animation</td>\n",
       "      <td>161871</td>\n",
       "      <td>3.0</td>\n",
       "      <td>833104576</td>\n",
       "    </tr>\n",
       "    <tr>\n",
       "      <th>3</th>\n",
       "      <td>1</td>\n",
       "      <td>Toy Story (1995)</td>\n",
       "      <td>Adventure|Animation|Children|Comedy|Fantasy</td>\n",
       "      <td>1995</td>\n",
       "      <td>Tom Hanks|Tim Allen|Don Rickles|Jim Varney|Wal...</td>\n",
       "      <td>John Lasseter</td>\n",
       "      <td>81.0</td>\n",
       "      <td>$30,000,000</td>\n",
       "      <td>toy|rivalry|cowboy|cgi animation</td>\n",
       "      <td>45117</td>\n",
       "      <td>4.0</td>\n",
       "      <td>1442256969</td>\n",
       "    </tr>\n",
       "    <tr>\n",
       "      <th>4</th>\n",
       "      <td>1</td>\n",
       "      <td>Toy Story (1995)</td>\n",
       "      <td>Adventure|Animation|Children|Comedy|Fantasy</td>\n",
       "      <td>1995</td>\n",
       "      <td>Tom Hanks|Tim Allen|Don Rickles|Jim Varney|Wal...</td>\n",
       "      <td>John Lasseter</td>\n",
       "      <td>81.0</td>\n",
       "      <td>$30,000,000</td>\n",
       "      <td>toy|rivalry|cowboy|cgi animation</td>\n",
       "      <td>27431</td>\n",
       "      <td>5.0</td>\n",
       "      <td>849667827</td>\n",
       "    </tr>\n",
       "    <tr>\n",
       "      <th>...</th>\n",
       "      <td>...</td>\n",
       "      <td>...</td>\n",
       "      <td>...</td>\n",
       "      <td>...</td>\n",
       "      <td>...</td>\n",
       "      <td>...</td>\n",
       "      <td>...</td>\n",
       "      <td>...</td>\n",
       "      <td>...</td>\n",
       "      <td>...</td>\n",
       "      <td>...</td>\n",
       "      <td>...</td>\n",
       "    </tr>\n",
       "    <tr>\n",
       "      <th>9633026</th>\n",
       "      <td>131262</td>\n",
       "      <td>Innocence (2014)</td>\n",
       "      <td>Adventure|Fantasy|Horror</td>\n",
       "      <td>2014</td>\n",
       "      <td>Sophie Lane Curtis|Kelly Reilly|Graham Phillip...</td>\n",
       "      <td>Hilary Brougher</td>\n",
       "      <td>96.0</td>\n",
       "      <td>NaN</td>\n",
       "      <td>hex|witch|virgin|blood</td>\n",
       "      <td>33844</td>\n",
       "      <td>2.5</td>\n",
       "      <td>1436135246</td>\n",
       "    </tr>\n",
       "    <tr>\n",
       "      <th>9633027</th>\n",
       "      <td>131262</td>\n",
       "      <td>Innocence (2014)</td>\n",
       "      <td>Adventure|Fantasy|Horror</td>\n",
       "      <td>2014</td>\n",
       "      <td>Sophie Lane Curtis|Kelly Reilly|Graham Phillip...</td>\n",
       "      <td>Hilary Brougher</td>\n",
       "      <td>96.0</td>\n",
       "      <td>NaN</td>\n",
       "      <td>hex|witch|virgin|blood</td>\n",
       "      <td>51278</td>\n",
       "      <td>3.0</td>\n",
       "      <td>1434134840</td>\n",
       "    </tr>\n",
       "    <tr>\n",
       "      <th>9633028</th>\n",
       "      <td>131262</td>\n",
       "      <td>Innocence (2014)</td>\n",
       "      <td>Adventure|Fantasy|Horror</td>\n",
       "      <td>2014</td>\n",
       "      <td>Sophie Lane Curtis|Kelly Reilly|Graham Phillip...</td>\n",
       "      <td>Hilary Brougher</td>\n",
       "      <td>96.0</td>\n",
       "      <td>NaN</td>\n",
       "      <td>hex|witch|virgin|blood</td>\n",
       "      <td>73268</td>\n",
       "      <td>1.0</td>\n",
       "      <td>1475289253</td>\n",
       "    </tr>\n",
       "    <tr>\n",
       "      <th>9633029</th>\n",
       "      <td>131262</td>\n",
       "      <td>Innocence (2014)</td>\n",
       "      <td>Adventure|Fantasy|Horror</td>\n",
       "      <td>2014</td>\n",
       "      <td>Sophie Lane Curtis|Kelly Reilly|Graham Phillip...</td>\n",
       "      <td>Hilary Brougher</td>\n",
       "      <td>96.0</td>\n",
       "      <td>NaN</td>\n",
       "      <td>hex|witch|virgin|blood</td>\n",
       "      <td>7865</td>\n",
       "      <td>1.0</td>\n",
       "      <td>1456452588</td>\n",
       "    </tr>\n",
       "    <tr>\n",
       "      <th>9633030</th>\n",
       "      <td>131262</td>\n",
       "      <td>Innocence (2014)</td>\n",
       "      <td>Adventure|Fantasy|Horror</td>\n",
       "      <td>2014</td>\n",
       "      <td>Sophie Lane Curtis|Kelly Reilly|Graham Phillip...</td>\n",
       "      <td>Hilary Brougher</td>\n",
       "      <td>96.0</td>\n",
       "      <td>NaN</td>\n",
       "      <td>hex|witch|virgin|blood</td>\n",
       "      <td>36618</td>\n",
       "      <td>3.0</td>\n",
       "      <td>1486410929</td>\n",
       "    </tr>\n",
       "  </tbody>\n",
       "</table>\n",
       "<p>9633031 rows × 12 columns</p>\n",
       "</div>"
      ],
      "text/plain": [
       "         movieId             title  \\\n",
       "0              1  Toy Story (1995)   \n",
       "1              1  Toy Story (1995)   \n",
       "2              1  Toy Story (1995)   \n",
       "3              1  Toy Story (1995)   \n",
       "4              1  Toy Story (1995)   \n",
       "...          ...               ...   \n",
       "9633026   131262  Innocence (2014)   \n",
       "9633027   131262  Innocence (2014)   \n",
       "9633028   131262  Innocence (2014)   \n",
       "9633029   131262  Innocence (2014)   \n",
       "9633030   131262  Innocence (2014)   \n",
       "\n",
       "                                              genres  year  \\\n",
       "0        Adventure|Animation|Children|Comedy|Fantasy  1995   \n",
       "1        Adventure|Animation|Children|Comedy|Fantasy  1995   \n",
       "2        Adventure|Animation|Children|Comedy|Fantasy  1995   \n",
       "3        Adventure|Animation|Children|Comedy|Fantasy  1995   \n",
       "4        Adventure|Animation|Children|Comedy|Fantasy  1995   \n",
       "...                                              ...   ...   \n",
       "9633026                     Adventure|Fantasy|Horror  2014   \n",
       "9633027                     Adventure|Fantasy|Horror  2014   \n",
       "9633028                     Adventure|Fantasy|Horror  2014   \n",
       "9633029                     Adventure|Fantasy|Horror  2014   \n",
       "9633030                     Adventure|Fantasy|Horror  2014   \n",
       "\n",
       "                                                title_cast         director  \\\n",
       "0        Tom Hanks|Tim Allen|Don Rickles|Jim Varney|Wal...    John Lasseter   \n",
       "1        Tom Hanks|Tim Allen|Don Rickles|Jim Varney|Wal...    John Lasseter   \n",
       "2        Tom Hanks|Tim Allen|Don Rickles|Jim Varney|Wal...    John Lasseter   \n",
       "3        Tom Hanks|Tim Allen|Don Rickles|Jim Varney|Wal...    John Lasseter   \n",
       "4        Tom Hanks|Tim Allen|Don Rickles|Jim Varney|Wal...    John Lasseter   \n",
       "...                                                    ...              ...   \n",
       "9633026  Sophie Lane Curtis|Kelly Reilly|Graham Phillip...  Hilary Brougher   \n",
       "9633027  Sophie Lane Curtis|Kelly Reilly|Graham Phillip...  Hilary Brougher   \n",
       "9633028  Sophie Lane Curtis|Kelly Reilly|Graham Phillip...  Hilary Brougher   \n",
       "9633029  Sophie Lane Curtis|Kelly Reilly|Graham Phillip...  Hilary Brougher   \n",
       "9633030  Sophie Lane Curtis|Kelly Reilly|Graham Phillip...  Hilary Brougher   \n",
       "\n",
       "         runtime       budget                     plot_keywords  userId  \\\n",
       "0           81.0  $30,000,000  toy|rivalry|cowboy|cgi animation  158849   \n",
       "1           81.0  $30,000,000  toy|rivalry|cowboy|cgi animation   97203   \n",
       "2           81.0  $30,000,000  toy|rivalry|cowboy|cgi animation  161871   \n",
       "3           81.0  $30,000,000  toy|rivalry|cowboy|cgi animation   45117   \n",
       "4           81.0  $30,000,000  toy|rivalry|cowboy|cgi animation   27431   \n",
       "...          ...          ...                               ...     ...   \n",
       "9633026     96.0          NaN            hex|witch|virgin|blood   33844   \n",
       "9633027     96.0          NaN            hex|witch|virgin|blood   51278   \n",
       "9633028     96.0          NaN            hex|witch|virgin|blood   73268   \n",
       "9633029     96.0          NaN            hex|witch|virgin|blood    7865   \n",
       "9633030     96.0          NaN            hex|witch|virgin|blood   36618   \n",
       "\n",
       "         rating   timestamp  \n",
       "0           5.0   994716786  \n",
       "1           5.0   942683155  \n",
       "2           3.0   833104576  \n",
       "3           4.0  1442256969  \n",
       "4           5.0   849667827  \n",
       "...         ...         ...  \n",
       "9633026     2.5  1436135246  \n",
       "9633027     3.0  1434134840  \n",
       "9633028     1.0  1475289253  \n",
       "9633029     1.0  1456452588  \n",
       "9633030     3.0  1486410929  \n",
       "\n",
       "[9633031 rows x 12 columns]"
      ]
     },
     "execution_count": 31,
     "metadata": {},
     "output_type": "execute_result"
    }
   ],
   "source": [
    "imdb_movies = pd.merge(df_movies,df_imdb, on=\"movieId\")\n",
    "df = imdb_movies.merge(df_train, on=\"movieId\")\n",
    "df"
   ]
  },
  {
   "cell_type": "markdown",
   "metadata": {},
   "source": [
    "## Collaborative Based Filtering"
   ]
  },
  {
   "cell_type": "code",
   "execution_count": 27,
   "metadata": {
    "execution": {
     "iopub.execute_input": "2023-07-17T07:21:45.386002Z",
     "iopub.status.busy": "2023-07-17T07:21:45.385447Z",
     "iopub.status.idle": "2023-07-17T07:21:45.403748Z",
     "shell.execute_reply": "2023-07-17T07:21:45.402337Z",
     "shell.execute_reply.started": "2023-07-17T07:21:45.385964Z"
    }
   },
   "outputs": [
    {
     "data": {
      "text/html": [
       "<div>\n",
       "<style scoped>\n",
       "    .dataframe tbody tr th:only-of-type {\n",
       "        vertical-align: middle;\n",
       "    }\n",
       "\n",
       "    .dataframe tbody tr th {\n",
       "        vertical-align: top;\n",
       "    }\n",
       "\n",
       "    .dataframe thead th {\n",
       "        text-align: right;\n",
       "    }\n",
       "</style>\n",
       "<table border=\"1\" class=\"dataframe\">\n",
       "  <thead>\n",
       "    <tr style=\"text-align: right;\">\n",
       "      <th></th>\n",
       "      <th>userId</th>\n",
       "      <th>movieId</th>\n",
       "      <th>rating</th>\n",
       "      <th>timestamp</th>\n",
       "    </tr>\n",
       "  </thead>\n",
       "  <tbody>\n",
       "    <tr>\n",
       "      <th>0</th>\n",
       "      <td>5163</td>\n",
       "      <td>57669</td>\n",
       "      <td>4.0</td>\n",
       "      <td>1518349992</td>\n",
       "    </tr>\n",
       "    <tr>\n",
       "      <th>1</th>\n",
       "      <td>106343</td>\n",
       "      <td>5</td>\n",
       "      <td>4.5</td>\n",
       "      <td>1206238739</td>\n",
       "    </tr>\n",
       "    <tr>\n",
       "      <th>2</th>\n",
       "      <td>146790</td>\n",
       "      <td>5459</td>\n",
       "      <td>5.0</td>\n",
       "      <td>1076215539</td>\n",
       "    </tr>\n",
       "    <tr>\n",
       "      <th>3</th>\n",
       "      <td>106362</td>\n",
       "      <td>32296</td>\n",
       "      <td>2.0</td>\n",
       "      <td>1423042565</td>\n",
       "    </tr>\n",
       "    <tr>\n",
       "      <th>4</th>\n",
       "      <td>9041</td>\n",
       "      <td>366</td>\n",
       "      <td>3.0</td>\n",
       "      <td>833375837</td>\n",
       "    </tr>\n",
       "  </tbody>\n",
       "</table>\n",
       "</div>"
      ],
      "text/plain": [
       "   userId  movieId  rating   timestamp\n",
       "0    5163    57669     4.0  1518349992\n",
       "1  106343        5     4.5  1206238739\n",
       "2  146790     5459     5.0  1076215539\n",
       "3  106362    32296     2.0  1423042565\n",
       "4    9041      366     3.0   833375837"
      ]
     },
     "execution_count": 27,
     "metadata": {},
     "output_type": "execute_result"
    }
   ],
   "source": [
    "reader = Reader(rating_scale=(0.5, 5))\n",
    "df_train.head()"
   ]
  },
  {
   "cell_type": "code",
   "execution_count": 28,
   "metadata": {
    "execution": {
     "iopub.execute_input": "2023-07-17T07:22:08.074674Z",
     "iopub.status.busy": "2023-07-17T07:22:08.073666Z",
     "iopub.status.idle": "2023-07-17T07:22:08.084088Z",
     "shell.execute_reply": "2023-07-17T07:22:08.082069Z",
     "shell.execute_reply.started": "2023-07-17T07:22:08.074620Z"
    }
   },
   "outputs": [
    {
     "data": {
      "text/plain": [
       "((5000019, 2), (10000038, 4))"
      ]
     },
     "execution_count": 28,
     "metadata": {},
     "output_type": "execute_result"
    }
   ],
   "source": [
    "df_test.shape, df_train.shape"
   ]
  },
  {
   "cell_type": "code",
   "execution_count": 29,
   "metadata": {
    "execution": {
     "iopub.execute_input": "2023-07-17T08:29:02.061739Z",
     "iopub.status.busy": "2023-07-17T08:29:02.061260Z",
     "iopub.status.idle": "2023-07-17T08:29:57.531708Z",
     "shell.execute_reply": "2023-07-17T08:29:57.530333Z",
     "shell.execute_reply.started": "2023-07-17T08:29:02.061704Z"
    }
   },
   "outputs": [],
   "source": [
    "data = Dataset.load_from_df(df_train[['userId', 'movieId', 'rating']], reader)\n",
    "trainset, testset = train_test_split(data, test_size=0.20, random_state=42)"
   ]
  },
  {
   "cell_type": "markdown",
   "metadata": {},
   "source": [
    " <a id=\"six\"></a>\n",
    "## 6. Model Training and Evaluation\n",
    "<a href=#cont>Back to Table of Contents</a>"
   ]
  },
  {
   "cell_type": "markdown",
   "metadata": {},
   "source": [
    "### Model 1: Singular Value Decomposition\n",
    "Singular value decomposition (SVD) is a collaborative filtering method for movie recommendation."
   ]
  },
  {
   "cell_type": "code",
   "execution_count": null,
   "metadata": {
    "execution": {
     "iopub.execute_input": "2023-07-17T08:49:08.957930Z",
     "iopub.status.busy": "2023-07-17T08:49:08.957415Z",
     "iopub.status.idle": "2023-07-17T09:02:49.598407Z",
     "shell.execute_reply": "2023-07-17T09:02:49.597142Z",
     "shell.execute_reply.started": "2023-07-17T08:49:08.957896Z"
    }
   },
   "outputs": [
    {
     "name": "stdout",
     "output_type": "stream",
     "text": [
      "Processing epoch 0\n",
      "Processing epoch 1\n",
      "Processing epoch 2\n",
      "Processing epoch 3\n",
      "Processing epoch 4\n",
      "Processing epoch 5\n",
      "Processing epoch 6\n",
      "Processing epoch 7\n",
      "Processing epoch 8\n",
      "Processing epoch 9\n",
      "Processing epoch 10\n",
      "Processing epoch 11\n",
      "Processing epoch 12\n",
      "Processing epoch 13\n",
      "Processing epoch 14\n",
      "Processing epoch 15\n",
      "Processing epoch 16\n",
      "Processing epoch 17\n",
      "Processing epoch 18\n",
      "Processing epoch 19\n",
      "Processing epoch 20\n",
      "Processing epoch 21\n",
      "Processing epoch 22\n",
      "Processing epoch 23\n",
      "Processing epoch 24\n",
      "Processing epoch 25\n",
      "Processing epoch 26\n",
      "Processing epoch 27\n",
      "Processing epoch 28\n",
      "Processing epoch 29\n",
      "Processing epoch 30\n"
     ]
    }
   ],
   "source": [
    "svd_model = SVD(n_epochs=35,n_factors=400,init_std_dev=0.001,random_state=42,verbose=True)\n",
    "svd_model.fit(trainset)\n",
    "svd_predictions = svd_model.test(testset)\n",
    "svd_rmse = accuracy.rmse(svd_predictions)"
   ]
  },
  {
   "cell_type": "markdown",
   "metadata": {},
   "source": [
    " <a id=\"seven\"></a>\n",
    "## 7. Test Data Prediction and Submission\n",
    "<a href=#cont>Back to Table of Contents</a>\n"
   ]
  },
  {
   "cell_type": "code",
   "execution_count": 42,
   "metadata": {
    "execution": {
     "iopub.execute_input": "2023-07-17T09:08:44.394230Z",
     "iopub.status.busy": "2023-07-17T09:08:44.393672Z",
     "iopub.status.idle": "2023-07-17T09:13:50.332887Z",
     "shell.execute_reply": "2023-07-17T09:13:50.330852Z",
     "shell.execute_reply.started": "2023-07-17T09:08:44.394193Z"
    }
   },
   "outputs": [],
   "source": [
    "# Creating a submission file for the SVD model\n",
    "pred = [svd_model.predict(df_test.userId[i], df_test.movieId[i]).est for i in df_test.index]\n",
    "predictions = pd.DataFrame(pred)\n",
    "predictions['Id'] = df_test['userId'].astype(str)+'_'+df_test['movieId'].astype(str)\n",
    "submission = pd.DataFrame()\n",
    "submission['Id']=predictions['Id']\n",
    "submission['rating']=predictions[0]\n",
    "submission.to_csv('submission.csv', index=False)"
   ]
  },
  {
   "cell_type": "code",
   "execution_count": 43,
   "metadata": {
    "execution": {
     "iopub.execute_input": "2023-07-17T09:14:20.007524Z",
     "iopub.status.busy": "2023-07-17T09:14:20.007021Z",
     "iopub.status.idle": "2023-07-17T09:14:24.837859Z",
     "shell.execute_reply": "2023-07-17T09:14:24.836057Z",
     "shell.execute_reply.started": "2023-07-17T09:14:20.007488Z"
    }
   },
   "outputs": [
    {
     "data": {
      "text/html": [
       "<div>\n",
       "<style scoped>\n",
       "    .dataframe tbody tr th:only-of-type {\n",
       "        vertical-align: middle;\n",
       "    }\n",
       "\n",
       "    .dataframe tbody tr th {\n",
       "        vertical-align: top;\n",
       "    }\n",
       "\n",
       "    .dataframe thead th {\n",
       "        text-align: right;\n",
       "    }\n",
       "</style>\n",
       "<table border=\"1\" class=\"dataframe\">\n",
       "  <thead>\n",
       "    <tr style=\"text-align: right;\">\n",
       "      <th></th>\n",
       "      <th>Id</th>\n",
       "      <th>rating</th>\n",
       "    </tr>\n",
       "  </thead>\n",
       "  <tbody>\n",
       "    <tr>\n",
       "      <th>0</th>\n",
       "      <td>1_2011</td>\n",
       "      <td>3.091483</td>\n",
       "    </tr>\n",
       "    <tr>\n",
       "      <th>1</th>\n",
       "      <td>1_4144</td>\n",
       "      <td>4.109224</td>\n",
       "    </tr>\n",
       "    <tr>\n",
       "      <th>2</th>\n",
       "      <td>1_5767</td>\n",
       "      <td>3.622078</td>\n",
       "    </tr>\n",
       "    <tr>\n",
       "      <th>3</th>\n",
       "      <td>1_6711</td>\n",
       "      <td>4.082091</td>\n",
       "    </tr>\n",
       "    <tr>\n",
       "      <th>4</th>\n",
       "      <td>1_7318</td>\n",
       "      <td>2.788490</td>\n",
       "    </tr>\n",
       "  </tbody>\n",
       "</table>\n",
       "</div>"
      ],
      "text/plain": [
       "       Id    rating\n",
       "0  1_2011  3.091483\n",
       "1  1_4144  4.109224\n",
       "2  1_5767  3.622078\n",
       "3  1_6711  4.082091\n",
       "4  1_7318  2.788490"
      ]
     },
     "execution_count": 43,
     "metadata": {},
     "output_type": "execute_result"
    }
   ],
   "source": [
    "my_sub = pd.read_csv('/kaggle/working/submission.csv')\n",
    "my_sub.head(5)"
   ]
  },
  {
   "cell_type": "markdown",
   "metadata": {},
   "source": [
    " <a id=\"eight\"></a>\n",
    "## 8. Saving Models for Streamlit Appilication\n",
    "<a href=#cont>Back to Table of Contents</a>"
   ]
  },
  {
   "cell_type": "markdown",
   "metadata": {},
   "source": [
    " <a id=\"nine\"></a>\n",
    "## 9. Conclusion\n",
    "<a href=#cont>Back to Table of Contents</a>"
   ]
  },
  {
   "cell_type": "markdown",
   "metadata": {},
   "source": [
    " <a id=\"ten\"></a>\n",
    "## 10. Recommendations\n",
    "<a href=#cont>Back to Table of Contents</a>"
   ]
  },
  {
   "cell_type": "markdown",
   "metadata": {},
   "source": [
    " <a id=\"eleven\"></a>\n",
    "## 11. Reference Links\n",
    "<a href=#cont>Back to Table of Contents</a>"
   ]
  },
  {
   "cell_type": "code",
   "execution_count": null,
   "metadata": {},
   "outputs": [],
   "source": []
  },
  {
   "cell_type": "code",
   "execution_count": null,
   "metadata": {},
   "outputs": [],
   "source": []
  },
  {
   "cell_type": "code",
   "execution_count": null,
   "metadata": {},
   "outputs": [],
   "source": []
  },
  {
   "cell_type": "code",
   "execution_count": null,
   "metadata": {},
   "outputs": [],
   "source": []
  },
  {
   "cell_type": "code",
   "execution_count": null,
   "metadata": {
    "papermill": {
     "duration": 0.001009,
     "end_time": "2023-07-05T18:50:52.545511",
     "exception": false,
     "start_time": "2023-07-05T18:50:52.544502",
     "status": "completed"
    },
    "tags": []
   },
   "outputs": [],
   "source": []
  }
 ],
 "metadata": {
  "kernelspec": {
   "display_name": "Python 3 (ipykernel)",
   "language": "python",
   "name": "python3"
  },
  "language_info": {
   "codemirror_mode": {
    "name": "ipython",
    "version": 3
   },
   "file_extension": ".py",
   "mimetype": "text/x-python",
   "name": "python",
   "nbconvert_exporter": "python",
   "pygments_lexer": "ipython3",
   "version": "3.7.13"
  }
 },
 "nbformat": 4,
 "nbformat_minor": 4
}
